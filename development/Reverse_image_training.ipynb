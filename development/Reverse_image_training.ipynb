{
 "cells": [
  {
   "cell_type": "code",
   "execution_count": 1,
   "metadata": {
    "collapsed": true
   },
   "outputs": [],
   "source": [
    "import matplotlib.pyplot as plt\n",
    "import matplotlib.animation as animation\n",
    "from math import *\n",
    "import numpy as np\n",
    "import os\n",
    "from IPython.display import HTML\n",
    "from tqdm import tqdm\n",
    "from PIL import Image"
   ]
  },
  {
   "cell_type": "code",
   "execution_count": 2,
   "metadata": {},
   "outputs": [
    {
     "name": "stderr",
     "output_type": "stream",
     "text": [
      "/root/.pyenv/versions/3.6.2/lib/python3.6/importlib/_bootstrap.py:205: RuntimeWarning: compiletime version 3.5 of module 'tensorflow.python.framework.fast_tensor_util' does not match runtime version 3.6\n",
      "  return f(*args, **kwds)\n"
     ]
    },
    {
     "name": "stdout",
     "output_type": "stream",
     "text": [
      "Extracting ../dataset/train-images-idx3-ubyte.gz\n",
      "Extracting ../dataset/train-labels-idx1-ubyte.gz\n",
      "Extracting ../dataset/t10k-images-idx3-ubyte.gz\n",
      "Extracting ../dataset/t10k-labels-idx1-ubyte.gz\n"
     ]
    }
   ],
   "source": [
    "from tensorflow.examples.tutorials.mnist import input_data\n",
    "\n",
    "mnist = input_data.read_data_sets(\"../dataset/\")"
   ]
  },
  {
   "cell_type": "code",
   "execution_count": 3,
   "metadata": {
    "collapsed": true
   },
   "outputs": [],
   "source": [
    "interval = 0.01"
   ]
  },
  {
   "cell_type": "code",
   "execution_count": 4,
   "metadata": {
    "collapsed": true
   },
   "outputs": [],
   "source": [
    "# 3x3 memristor crossbar\n",
    "# 전압으로 MEMRISTOR 저\n",
    "class Memristor:\n",
    "    def __init__(self, name):\n",
    "        self.name = name\n",
    "        self.x = 0.1\n",
    "        self.xp = 0.1\n",
    "        self.xn = 0.2\n",
    "        self.vp = 1.5\n",
    "        self.vn = 0.7\n",
    "        self.alphap = 6\n",
    "        self.alphan = 4\n",
    "        self.a1 = 4e-4\n",
    "        self.a2 = 3e-4\n",
    "        self.ap = 0.032\n",
    "        self.an = 0.001\n",
    "        self.b = 1.0\n",
    "        \n",
    "        self.gf = 0.0\n",
    "        \n",
    "        self.interval = interval\n",
    "        self.conductance = 0\n",
    "        self.resistance = 0\n",
    "    \n",
    "    def change_x(self, V):\n",
    "        if V >= 0:\n",
    "            if self.x >= self.xp:\n",
    "                self.f = exp(-self.alphap*(self.x - self.xp)) * (((self.xp - self.x)/(1 - self.xp)) + 1)\n",
    "            else:\n",
    "                self.f = 1.0\n",
    "        elif V < 0:\n",
    "            if self.x <= (1 - self.xn):\n",
    "                self.f = exp(self.alphan*(self.x + self.xn - 1.0)) * (self.x/(1-self.xn))\n",
    "            else:\n",
    "                self.f = 1.0\n",
    "            \n",
    "        if V > self.vp:\n",
    "            self.g = self.ap * (exp(V)-exp(self.vp))\n",
    "        elif V < -self.vn:\n",
    "            self.g = -self.an * (exp(-V)-exp(self.vn))\n",
    "        else:\n",
    "            self.g = 0\n",
    "            \n",
    "        self.gf = self.f * self.g\n",
    "        self.x += self.gf * self.interval\n",
    "    \n",
    "    def activate(self, V):\n",
    "        self.change_x(V)\n",
    "        \n",
    "        if V >= 0:\n",
    "            curr = self.a1 * self.x * sinh(self.b * V)\n",
    "        else:\n",
    "            curr = self.a2 * self.x * sinh(self.b * V)\n",
    "        \n",
    "        try: self.resistance = V / curr\n",
    "        except ZeroDivisionError as e:\n",
    "            print(e)\n",
    "            \n",
    "        try: self.conductance = 1 / self.resistance\n",
    "        except ZeroDivisionError as e:\n",
    "            print(e)\n",
    "            \n",
    "        return curr"
   ]
  },
  {
   "cell_type": "code",
   "execution_count": 5,
   "metadata": {
    "collapsed": true
   },
   "outputs": [],
   "source": [
    "class DataBalancing:\n",
    "    def __init__(self):\n",
    "        self.quantity = 60000\n",
    "        self.balance_num = 2000\n",
    "    \n",
    "    def activate(self):\n",
    "        self.images = mnist.train.images[:self.quantity]\n",
    "        self.labels = mnist.train.labels[:self.quantity]\n",
    "        self.data_dict = {}\n",
    "        for i in range(10):\n",
    "            self.data_dict[i] = []\n",
    "        for ii,num in enumerate(self.labels):\n",
    "            self.data_dict[num].append(self.images[ii])\n",
    "        \n",
    "        for i in range(10):\n",
    "            self.data_dict[i][:self.balance_num]\n",
    "            \n",
    "        self.output_list = []\n",
    "        self.label_list = []\n",
    "        for times in tqdm(range(self.balance_num)):\n",
    "            for ii in range(10):\n",
    "                self.output_list.append(self.data_dict[ii][times])\n",
    "                self.label_list.append(ii)\n",
    "                \n",
    "        return self.output_list, self.label_list"
   ]
  },
  {
   "cell_type": "code",
   "execution_count": 6,
   "metadata": {},
   "outputs": [
    {
     "name": "stderr",
     "output_type": "stream",
     "text": [
      "100%|██████████████████████████████████████████████████████████████████████████████████████| 2000/2000 [00:00<00:00, 268469.82it/s]\n"
     ]
    }
   ],
   "source": [
    "databalance = DataBalancing()\n",
    "balanced_image_list, balanced_label_list = databalance.activate()\n",
    "del databalance"
   ]
  },
  {
   "cell_type": "markdown",
   "metadata": {},
   "source": [
    "# reverse imaging"
   ]
  },
  {
   "cell_type": "code",
   "execution_count": 11,
   "metadata": {
    "collapsed": true
   },
   "outputs": [],
   "source": [
    "class AfterReverseImaging:\n",
    "    def __init__(self, images, labels, quantity=4000):\n",
    "        self.quantity = quantity\n",
    "        self.images = images\n",
    "        self.labels = labels\n",
    "        self.size = 22\n",
    "        self.row_num = self.size**2\n",
    "        self.column_num = 10\n",
    "        self.loss_list=[]\n",
    "        self.accuracy_list=[]\n",
    "        \n",
    "    def make_mem_crossbar(self, cross_id):\n",
    "        # Build Memristor crossbar\n",
    "        for i in range(self.row_num):\n",
    "            for j in range(self.column_num):\n",
    "                exec('self.mem_%c_%d_%d = Memristor(\"mem_%c_%d_%d\")'%(cross_id,i,j,cross_id,i,j))\n",
    "        \n",
    "    def crossbar_matrix(self):\n",
    "        self.mem_matrix = {'o':[],'r':[]}\n",
    "        for row in range(self.row_num):\n",
    "            row_list = []\n",
    "            for column in range(self.column_num):\n",
    "                exec('row_list.append(self.mem_%c_%d_%d.conductance)'%('o',row,column))\n",
    "            self.mem_matrix['o'].append(row_list)\n",
    "            \n",
    "        for row in range(self.row_num):\n",
    "            row_list = []\n",
    "            for column in range(self.column_num):\n",
    "                exec('row_list.append(self.mem_%c_%d_%d.conductance)'%('r',row,column))\n",
    "            self.mem_matrix['r'].append(row_list)\n",
    "    \n",
    "    def data_size_reduction(self):\n",
    "        #os.mkdir(\"../dataset/size_reduced_image_path\")\n",
    "        #os.chdir(\"../dataset/size_reduced_image_path\")\n",
    "        \n",
    "        input_images = self.images[:self.quantity]\n",
    "        labels = self.labels[:self.quantity]\n",
    "        size_reducted_images = []\n",
    "        for im in input_images:\n",
    "            pil_im = Image.fromarray(np.reshape(im, [28,28]))\n",
    "            size_reducted_images.append(np.reshape(np.array(pil_im.resize([self.size, self.size])), [1, self.row_num])[0])\n",
    "        return size_reducted_images, labels\n",
    "    \n",
    "    def reverse(self, image):\n",
    "        return 1.0 - np.array(image)\n",
    "    \n",
    "    def split_train_test(self, images, labels, train_ratio=0.90):\n",
    "        # img path 를 받아서 train, test set을 list로 추출해서 나눠줌 --> path는 좀 더 데이터 사이즈가 커졌을 때 사용해도 될 듯\n",
    "        train_quantity = int(len(images)*train_ratio)\n",
    "        train_image_list = images[:train_quantity]\n",
    "        train_label_list = labels[:train_quantity]\n",
    "        test_image_list = images[train_quantity:]\n",
    "        test_label_list = labels[train_quantity:]\n",
    "        return train_image_list, train_label_list, test_image_list, test_label_list\n",
    "    \n",
    "    def after_imaging(self, train_image, train_label, insert_time=0.6):\n",
    "        # ms 단위의 이미지 sending (그 때 써놓았던 방식대로 작동될 수 있도록 하기)\n",
    "        # image의 검은 부분은 -V 로 들어갈 수 있도록 만들기\n",
    "        # generator 을 사용해서 하나씩 넣는 method 를 만들어도 괜찮을것같다. \n",
    "        voltage_inputs = np.array(train_image)+1.0\n",
    "        for i, V in enumerate(voltage_inputs):\n",
    "            for time in np.arange(0,insert_time,interval):\n",
    "                exec('self.mem_%c_%d_%d.activate(V)'%('o',i,train_label))\n",
    "\n",
    "        rev_voltage_inputs = self.reverse(train_image)+1.0\n",
    "        for ii, VV in enumerate(rev_voltage_inputs):\n",
    "            for non_label in [i for i in range(10) if i != train_label]:\n",
    "                for time in np.arange(0,insert_time,interval):\n",
    "                    exec('self.mem_%c_%d_%d.activate(VV)'%('r',ii,non_label))\n",
    "        \n",
    "    def mem_output(self, cross_id, image_array):\n",
    "        # 현재 멤리스터 상태에서 input 넣고 테스트하기\n",
    "        crossbar_output = np.dot(image_array, self.mem_matrix[cross_id])\n",
    "        return crossbar_output\n",
    "    \n",
    "    def total_output(self, image_array):\n",
    "        minus_rate = 0.8\n",
    "        return self.mem_output('o',image_array) - minus_rate*self.mem_output('r', self.reverse(image_array))\n",
    "    \n",
    "    def winner_take_all(self, crossbar_output):\n",
    "        a = np.argmax(crossbar_output)\n",
    "        output = np.zeros([10])\n",
    "        output[a] = 1\n",
    "        return output\n",
    "    \n",
    "    def loss_function(self):\n",
    "        total_loss = 0.0\n",
    "        for k, label in enumerate(self.train_label_list):\n",
    "            label_onehot = np.zeros([1,10])\n",
    "            label_onehot[0][label] = 1.0\n",
    "            label_onehot = np.array(label_onehot[0])\n",
    "            output = self.total_output(self.train_image_list[k])\n",
    "            #Softmax used to check the loss function\n",
    "            output = np.exp(output*10000)\n",
    "            output /= np.sum(output)\n",
    "            loss_array = label_onehot - output #--> softmax는 값이 너무 작아서 구현이 안되는 듯\n",
    "            #loss_array = label_onehot - output/np.sum(output) # --> just normalized by dividing into sum\n",
    "            loss = np.dot(loss_array, loss_array)\n",
    "            total_loss += loss\n",
    "        return total_loss*10/len(self.train_image_list)\n",
    "    \n",
    "    def train_data_gen(self):\n",
    "        for image, label in list(zip(self.train_image_list, self.train_label_list)):\n",
    "            yield image, label\n",
    "    \n",
    "    def crossbar_animation(self, train_data):\n",
    "    # input 은 없으며 그저 crossbar resistance를 plotting 해줌.\n",
    "    # 그 plotting을 에니메이션적으로 할 수 있으면 좋겠다. \n",
    "    # 그 기준축을 평균으로 잡고, scale도 분산을 계산해서 plotting 되는 것 같은데 그렇게 되지 않도록 하기\n",
    "        self.after_imaging(train_data[0], train_data[1], insert_time=0.6)\n",
    "        self.crossbar_matrix()\n",
    "        #self.loss_list.append(self.loss_function())\n",
    "        #self.accuracy_list.append(self.accuracy())\n",
    "        self.ax1.clear()\n",
    "        self.ax1.matshow(np.transpose(self.mem_matrix['o']), cmap=plt.cm.binary, vmin=0, vmax=5.0e-4)\n",
    "        self.ax1.set_ylabel('Memristor column')\n",
    "        self.ax1.set_xlabel('Memristor row')\n",
    "        \n",
    "#         self.ax2.clear()\n",
    "#         self.ax2.set_xlim([0,100])\n",
    "#         self.ax2.grid()\n",
    "#         self.ax2.set_ylim([0,25])\n",
    "#         self.ax2.set_ylabel('Loss')\n",
    "#         self.ax2.set_xlabel('Number of Times')\n",
    "#         self.ax2.plot(self.loss_list)\n",
    "        \n",
    "#         self.ax3.clear()\n",
    "#         self.ax3.plot(self.accuracy_list)\n",
    "#         self.ax3.set_xlim([0,100])\n",
    "#         self.ax3.grid()\n",
    "#         self.ax3.set_ylim([0,100])\n",
    "#         self.ax3.set_ylabel('Accuracy(%)')\n",
    "#         self.ax3.set_xlabel('Number of Times')\n",
    "        \n",
    "        self.ax4.clear()\n",
    "        self.ax4.matshow(np.transpose(self.mem_matrix['r']), cmap=plt.cm.binary, vmin=0, vmax=5.0e-4)\n",
    "        self.ax4.set_ylabel('Memristor column')\n",
    "        self.ax4.set_xlabel('Memristor row')\n",
    "    \n",
    "    def accuracy(self):\n",
    "        correct_number = 0\n",
    "        for i, input_image in enumerate(self.test_image_list):\n",
    "            if np.argmax(self.total_output(input_image)) == self.test_label_list[i]:\n",
    "                correct_number += 1\n",
    "        return round(correct_number*100/len(self.test_image_list), 2)\n",
    "        \n",
    "    def activate(self):\n",
    "        fig = plt.figure(figsize=(16,9))\n",
    "        self.ax1 = fig.add_subplot(2,1,1)\n",
    "#         self.ax2 = fig.add_subplot(4,1,3)\n",
    "#         self.ax3 = fig.add_subplot(4,1,4)\n",
    "        self.ax4 = fig.add_subplot(2,1,2)\n",
    "        \n",
    "        print(\"Building two Memristor {}x{} crossbar...\".format(self.row_num, self.column_num))\n",
    "        self.make_mem_crossbar('o')\n",
    "        self.make_mem_crossbar('r')\n",
    "        self.crossbar_matrix()\n",
    "        \n",
    "        size_reducted_images, labels = self.data_size_reduction()\n",
    "        self.train_image_list, self.train_label_list, self.test_image_list, self.test_label_list = self.split_train_test(size_reducted_images, labels)\n",
    "        \n",
    "        print('\\nMaking animation...')\n",
    "        self.anim = animation.FuncAnimation(fig, self.crossbar_animation, self.train_data_gen, interval=300, repeat=False)\n",
    "        print('\\nAll process done.')"
   ]
  },
  {
   "cell_type": "code",
   "execution_count": 12,
   "metadata": {
    "scrolled": true
   },
   "outputs": [
    {
     "name": "stdout",
     "output_type": "stream",
     "text": [
      "Building two Memristor 484x10 crossbar...\n",
      "\n",
      "Making animation...\n",
      "\n",
      "All process done.\n"
     ]
    },
    {
     "data": {
      "image/png": "[encoded data removed]",
      "text/plain": [
       "<matplotlib.figure.Figure at 0x7fcc22dbabe0>"
      ]
     },
     "metadata": {},
     "output_type": "display_data"
    }
   ],
   "source": [
    "train_2 = AfterReverseImaging(balanced_image_list, balanced_label_list, quantity=20000)\n",
    "train_2.activate()"
   ]
  },
  {
   "cell_type": "code",
   "execution_count": 13,
   "metadata": {},
   "outputs": [
    {
     "data": {
      "text/plain": [
       "10.0"
      ]
     },
     "execution_count": 13,
     "metadata": {},
     "output_type": "execute_result"
    }
   ],
   "source": [
    "train_2.accuracy()"
   ]
  },
  {
   "cell_type": "code",
   "execution_count": 14,
   "metadata": {
    "collapsed": true
   },
   "outputs": [],
   "source": [
    "Writer = animation.writers['ffmpeg']\n",
    "writer = Writer(fps=5, metadata=dict(artist='Me'), bitrate=1800)\n",
    "\n",
    "train_2.anim.save('../animation/mem_matrix_animation(reverseHD_9(transposed graph only) SADP).mp4', writer=writer)"
   ]
  },
  {
   "cell_type": "markdown",
   "metadata": {},
   "source": [
    "# make figures for presentation"
   ]
  },
  {
   "cell_type": "code",
   "execution_count": 16,
   "metadata": {
    "collapsed": true,
    "scrolled": false
   },
   "outputs": [],
   "source": [
    "# plt.figure(figsize=(20,10))\n",
    "# for i in range(1,11):\n",
    "#     exec(\"ax_%d = plt.subplot(2,5,%d)\"%(i,i))\n",
    "\n",
    "# for i, a in enumerate(databalance.data_dict[9][:10]):\n",
    "#     a = np.reshape(a, [28,28])\n",
    "#     im_a = Image.fromarray(a)\n",
    "#     im_input = np.reshape(np.array(im_a.resize([22, 22])),[1,484])\n",
    "#     exec(\"ax_%d.imshow(a, cmap='gray')\"%(i+1))\n",
    "#     exec(\"ax_%d.set_title('predicted_value = %d')\"%(i+1,np.argmax(train_2.total_output(im_input))))"
   ]
  },
  {
   "cell_type": "code",
   "execution_count": 17,
   "metadata": {},
   "outputs": [
    {
     "data": {
      "image/png": "[encoded data removed]",
      "text/plain": [
       "<matplotlib.figure.Figure at 0x7fcc242e5e10>"
      ]
     },
     "metadata": {},
     "output_type": "display_data"
    }
   ],
   "source": [
    "plt.figure(figsize=(20,10))\n",
    "for i in range(1,11):\n",
    "    exec(\"ax_%d = plt.subplot(2,5,%d)\"%(i,i))\n",
    "\n",
    "for i in range(10):\n",
    "    mem_list = np.transpose(train_2.mem_matrix['r'])[i]\n",
    "    a = np.reshape(mem_list, [train_2.size,train_2.size])\n",
    "    exec(\"ax_%d.imshow(a, cmap='gray')\"%(i+1))\n",
    "    exec(\"ax_%d.set_title('memristor column of number %d')\"%(i+1,i))"
   ]
  },
  {
   "cell_type": "code",
   "execution_count": 18,
   "metadata": {
    "scrolled": false
   },
   "outputs": [
    {
     "data": {
      "image/png": "[encoded data removed]",
      "text/plain": [
       "<matplotlib.figure.Figure at 0x7fcc22d4b780>"
      ]
     },
     "metadata": {},
     "output_type": "display_data"
    }
   ],
   "source": [
    "plt.figure(figsize=(20,10))\n",
    "for i in range(1,11):\n",
    "    exec(\"ax_%d = plt.subplot(2,5,%d)\"%(i,i))\n",
    "\n",
    "for i in range(10):\n",
    "    mem_list = np.transpose(train_2.mem_matrix['o'])[i]\n",
    "    a = np.reshape(mem_list, [train_2.size,train_2.size])\n",
    "    exec(\"ax_%d.imshow(a, cmap='gray')\"%(i+1))\n",
    "    exec(\"ax_%d.set_title('memristor column of number %d')\"%(i+1,i))"
   ]
  },
  {
   "cell_type": "markdown",
   "metadata": {},
   "source": [
    "### white space experiment"
   ]
  },
  {
   "cell_type": "code",
   "execution_count": null,
   "metadata": {
    "collapsed": true
   },
   "outputs": [],
   "source": [
    "white_space = np.zeros([1,28*28])\n",
    "white_space += 1.0"
   ]
  },
  {
   "cell_type": "code",
   "execution_count": null,
   "metadata": {
    "collapsed": true
   },
   "outputs": [],
   "source": [
    "pil_im_1 = Image.fromarray(np.reshape(white_space, [28,28]))\n",
    "input_array_1 = np.reshape(np.array(pil_im_1.resize([22, 22])), [1, 22**2])[0]\n",
    "plt.plot(train_2.total_output(input_array_1))\n",
    "plt.show()"
   ]
  },
  {
   "cell_type": "code",
   "execution_count": null,
   "metadata": {
    "collapsed": true
   },
   "outputs": [],
   "source": [
    "plt.figure(figsize=(20,10))\n",
    "plt.plot(train_2.accuracy_list)\n",
    "plt.xlim([0,100])\n",
    "plt.grid()\n",
    "plt.ylim([0,100])\n",
    "plt.ylabel('Accuracy(%)')\n",
    "plt.xlabel('Number of Times')"
   ]
  },
  {
   "cell_type": "code",
   "execution_count": null,
   "metadata": {
    "collapsed": true
   },
   "outputs": [],
   "source": [
    "plt.figure(figsize=(20,10))\n",
    "plt.xlim([0,100])\n",
    "plt.grid()\n",
    "plt.ylim([0,25])\n",
    "plt.ylabel('Loss')\n",
    "plt.xlabel('Number of Times')\n",
    "plt.plot(train_2.loss_list)"
   ]
  },
  {
   "cell_type": "code",
   "execution_count": null,
   "metadata": {
    "collapsed": true
   },
   "outputs": [],
   "source": []
  }
 ],
 "metadata": {
  "kernelspec": {
   "display_name": "Python 3",
   "language": "python",
   "name": "python3"
  },
  "language_info": {
   "codemirror_mode": {
    "name": "ipython",
    "version": 3
   },
   "file_extension": ".py",
   "mimetype": "text/x-python",
   "name": "python",
   "nbconvert_exporter": "python",
   "pygments_lexer": "ipython3",
   "version": "3.4.3"
  }
 },
 "nbformat": 4,
 "nbformat_minor": 2
}
